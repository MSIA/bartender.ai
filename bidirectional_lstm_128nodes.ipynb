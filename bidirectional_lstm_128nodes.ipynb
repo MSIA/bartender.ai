{
 "cells": [
  {
   "cell_type": "code",
   "execution_count": 1,
   "metadata": {
    "colab": {
     "base_uri": "https://localhost:8080/",
     "height": 34
    },
    "colab_type": "code",
    "executionInfo": {
     "elapsed": 3434,
     "status": "ok",
     "timestamp": 1590728378172,
     "user": {
      "displayName": "Greesham Simon",
      "photoUrl": "",
      "userId": "01008140012629347087"
     },
     "user_tz": 300
    },
    "id": "zK3fiUfchwBm",
    "outputId": "9365f39b-8339-47ce-ac92-ca1db659c06c"
   },
   "outputs": [
    {
     "name": "stderr",
     "output_type": "stream",
     "text": [
      "Using TensorFlow backend.\n"
     ]
    }
   ],
   "source": [
    "from __future__ import print_function\n",
    "from keras.callbacks import LambdaCallback\n",
    "from keras.models import Sequential\n",
    "from keras.layers import Dense\n",
    "from keras.layers import LSTM\n",
    "from keras.optimizers import RMSprop\n",
    "from keras.utils.data_utils import get_file\n",
    "import numpy as np\n",
    "import random\n",
    "import sys\n",
    "import io\n",
    "import pandas as pd\n",
    "import matplotlib.pyplot as plt"
   ]
  },
  {
   "cell_type": "code",
   "execution_count": 6,
   "metadata": {
    "colab": {
     "base_uri": "https://localhost:8080/",
     "height": 34
    },
    "colab_type": "code",
    "executionInfo": {
     "elapsed": 2137,
     "status": "ok",
     "timestamp": 1590728442184,
     "user": {
      "displayName": "Greesham Simon",
      "photoUrl": "",
      "userId": "01008140012629347087"
     },
     "user_tz": 300
    },
    "id": "XATAZ_MqhwBt",
    "outputId": "ac51985e-614b-4271-bb14-2bb8ae4b6077"
   },
   "outputs": [
    {
     "data": {
      "text/plain": [
       "2730"
      ]
     },
     "execution_count": 6,
     "metadata": {
      "tags": []
     },
     "output_type": "execute_result"
    }
   ],
   "source": [
    "text = []\n",
    "with open(\"inflated_dataset_alcfirst.txt\") as infile:\n",
    "    for line in infile.readlines():\n",
    "        text.append(line.lower().replace('\"', ''))\n",
    "len(text)"
   ]
  },
  {
   "cell_type": "code",
   "execution_count": 0,
   "metadata": {
    "colab": {},
    "colab_type": "code",
    "id": "hnhDJM_HhwBx"
   },
   "outputs": [],
   "source": [
    "long_string = \"\"\n",
    "for string in text:\n",
    "    long_string += string\n",
    "\n",
    "chars = sorted(list(set(long_string)))"
   ]
  },
  {
   "cell_type": "code",
   "execution_count": 8,
   "metadata": {
    "colab": {
     "base_uri": "https://localhost:8080/",
     "height": 51
    },
    "colab_type": "code",
    "executionInfo": {
     "elapsed": 1418,
     "status": "ok",
     "timestamp": 1590728452523,
     "user": {
      "displayName": "Greesham Simon",
      "photoUrl": "",
      "userId": "01008140012629347087"
     },
     "user_tz": 300
    },
    "id": "ztFBUmf-hwB0",
    "outputId": "9ff82428-1c3c-453a-d4ce-850816c83a4d"
   },
   "outputs": [
    {
     "name": "stdout",
     "output_type": "stream",
     "text": [
      "corpus length: 2730\n",
      "total chars: 37\n"
     ]
    }
   ],
   "source": [
    "print('corpus length:', len(text))\n",
    "print('total chars:', len(chars))\n",
    "char_indices = dict((c, i) for i, c in enumerate(chars))\n",
    "indices_char = dict((i, c) for i, c in enumerate(chars))"
   ]
  },
  {
   "cell_type": "code",
   "execution_count": 9,
   "metadata": {
    "colab": {
     "base_uri": "https://localhost:8080/",
     "height": 34
    },
    "colab_type": "code",
    "executionInfo": {
     "elapsed": 1274,
     "status": "ok",
     "timestamp": 1590728456577,
     "user": {
      "displayName": "Greesham Simon",
      "photoUrl": "",
      "userId": "01008140012629347087"
     },
     "user_tz": 300
    },
    "id": "gF6l3itMhwB2",
    "outputId": "351c698b-c82b-49e9-bad4-b321b4fd8866"
   },
   "outputs": [
    {
     "name": "stdout",
     "output_type": "stream",
     "text": [
      "143\n"
     ]
    }
   ],
   "source": [
    "# Modularize later to calc. max len\n",
    "max_len = 0\n",
    "for i in text:\n",
    "    if len(i) > max_len:\n",
    "        max_len = len(i)\n",
    "print(max_len)"
   ]
  },
  {
   "cell_type": "code",
   "execution_count": 10,
   "metadata": {
    "colab": {
     "base_uri": "https://localhost:8080/",
     "height": 34
    },
    "colab_type": "code",
    "executionInfo": {
     "elapsed": 1405,
     "status": "ok",
     "timestamp": 1590728463379,
     "user": {
      "displayName": "Greesham Simon",
      "photoUrl": "",
      "userId": "01008140012629347087"
     },
     "user_tz": 300
    },
    "id": "iUDE465ChwB5",
    "outputId": "e3372405-5252-4bbd-b8c4-60e5babc7333"
   },
   "outputs": [
    {
     "name": "stdout",
     "output_type": "stream",
     "text": [
      "nb sequences: 62636\n"
     ]
    }
   ],
   "source": [
    "# cut the text in semi-redundant sequences of max_len characters\n",
    "step = 2 # how many characters to skip until next sentence starts\n",
    "sentences = []\n",
    "next_chars = []\n",
    "for i in range(0, len(long_string) - max_len, step):\n",
    "    sentences.append(long_string[i: i + max_len])\n",
    "    next_chars.append(long_string[i + max_len])\n",
    "print('nb sequences:', len(sentences))\n"
   ]
  },
  {
   "cell_type": "code",
   "execution_count": 11,
   "metadata": {
    "colab": {
     "base_uri": "https://localhost:8080/",
     "height": 34
    },
    "colab_type": "code",
    "executionInfo": {
     "elapsed": 3947,
     "status": "ok",
     "timestamp": 1590728468572,
     "user": {
      "displayName": "Greesham Simon",
      "photoUrl": "",
      "userId": "01008140012629347087"
     },
     "user_tz": 300
    },
    "id": "uIHC5rfshwB8",
    "outputId": "464b137b-3bd2-42a3-bfa7-9a7758114c8b"
   },
   "outputs": [
    {
     "name": "stdout",
     "output_type": "stream",
     "text": [
      "Vectorization...\n"
     ]
    }
   ],
   "source": [
    "print('Vectorization...')\n",
    "x = np.zeros((len(sentences), max_len, len(chars)), dtype=np.bool)\n",
    "y = np.zeros((len(sentences), len(chars)), dtype=np.bool)\n",
    "for i, sentence in enumerate(sentences):\n",
    "    for t, char in enumerate(sentence):\n",
    "        x[i, t, char_indices[char]] = 1\n",
    "    y[i, char_indices[next_chars[i]]] = 1"
   ]
  },
  {
   "cell_type": "code",
   "execution_count": 12,
   "metadata": {
    "colab": {
     "base_uri": "https://localhost:8080/",
     "height": 34
    },
    "colab_type": "code",
    "executionInfo": {
     "elapsed": 796,
     "status": "ok",
     "timestamp": 1590728468872,
     "user": {
      "displayName": "Greesham Simon",
      "photoUrl": "",
      "userId": "01008140012629347087"
     },
     "user_tz": 300
    },
    "id": "0qeMHmnDhwB-",
    "outputId": "cb321ba3-7f43-4aba-e934-278f5e4f424b"
   },
   "outputs": [
    {
     "data": {
      "text/plain": [
       "((62636, 37), (62636, 143, 37))"
      ]
     },
     "execution_count": 12,
     "metadata": {
      "tags": []
     },
     "output_type": "execute_result"
    }
   ],
   "source": [
    "(y.shape, x.shape)"
   ]
  },
  {
   "cell_type": "code",
   "execution_count": 13,
   "metadata": {
    "colab": {
     "base_uri": "https://localhost:8080/",
     "height": 34
    },
    "colab_type": "code",
    "executionInfo": {
     "elapsed": 1282,
     "status": "ok",
     "timestamp": 1590728470991,
     "user": {
      "displayName": "Greesham Simon",
      "photoUrl": "",
      "userId": "01008140012629347087"
     },
     "user_tz": 300
    },
    "id": "-Ve4AKIjhwCA",
    "outputId": "ff1d9e2c-c487-4728-9c77-e960febed55e"
   },
   "outputs": [
    {
     "data": {
      "text/plain": [
       "62636"
      ]
     },
     "execution_count": 13,
     "metadata": {
      "tags": []
     },
     "output_type": "execute_result"
    }
   ],
   "source": [
    "len(sentences)"
   ]
  },
  {
   "cell_type": "code",
   "execution_count": 0,
   "metadata": {
    "colab": {},
    "colab_type": "code",
    "id": "LjeGPOCVhwCC"
   },
   "outputs": [],
   "source": [
    "#sentences"
   ]
  },
  {
   "cell_type": "code",
   "execution_count": 18,
   "metadata": {
    "colab": {
     "base_uri": "https://localhost:8080/",
     "height": 34
    },
    "colab_type": "code",
    "executionInfo": {
     "elapsed": 1317,
     "status": "ok",
     "timestamp": 1590728677324,
     "user": {
      "displayName": "Greesham Simon",
      "photoUrl": "",
      "userId": "01008140012629347087"
     },
     "user_tz": 300
    },
    "id": "d5BeSihDhwCE",
    "outputId": "eae86249-9285-4ca5-9d01-97407dcf3fbc"
   },
   "outputs": [
    {
     "name": "stdout",
     "output_type": "stream",
     "text": [
      "Build model...\n"
     ]
    }
   ],
   "source": [
    "# build the model: a single LSTM with 256 nodes\n",
    "print('Build model...')\n",
    "model = Sequential()\n",
    "model.add(LSTM(128,return_sequences=True, input_shape=(max_len, len(chars))))\n",
    "model.add(LSTM(128,input_shape=(max_len, len(chars))))\n",
    "model.add(Dense(len(chars), activation='softmax'))\n",
    "\n",
    "optimizer = RMSprop(learning_rate=0.01)\n",
    "model.compile(loss='categorical_crossentropy', optimizer=optimizer)\n"
   ]
  },
  {
   "cell_type": "code",
   "execution_count": 0,
   "metadata": {
    "colab": {},
    "colab_type": "code",
    "id": "m_zzW3pFhwCH"
   },
   "outputs": [],
   "source": [
    "def sample(preds, temperature=1.0):\n",
    "    # helper function to sample an index from a probability array\n",
    "    preds = np.asarray(preds).astype('float64')\n",
    "    preds = np.log(preds) / temperature\n",
    "    exp_preds = np.exp(preds)\n",
    "    preds = exp_preds / np.sum(exp_preds)\n",
    "    probas = np.random.multinomial(1, preds, 1)\n",
    "    return np.argmax(probas)"
   ]
  },
  {
   "cell_type": "code",
   "execution_count": 0,
   "metadata": {
    "colab": {},
    "colab_type": "code",
    "id": "2wNfFBU7hwCJ"
   },
   "outputs": [],
   "source": [
    "def on_epoch_end(epoch, _):\n",
    "    # Function invoked at end of each epoch. Prints generated text.\n",
    "    print('\\n')\n",
    "    print('----- Generating text after Epoch: %d' % epoch)\n",
    "\n",
    "    start_index = random.randint(0, len(text) - max_len - 1)\n",
    "    for diversity in [0.2, 0.5, 1.0, 1.2]:\n",
    "        print('\\n')\n",
    "        print('----- diversity:', diversity)\n",
    "\n",
    "        generated = ''\n",
    "        sentence = ''.join(text)[start_index: start_index + max_len]\n",
    "        generated += sentence\n",
    "        print('----- Generating with seed: \"' + sentence + '\"')\n",
    "        #sys.stdout.write(generated)\n",
    "        print(\"\\n\")\n",
    "\n",
    "        for i in range(400):\n",
    "            x_pred = np.zeros((1, max_len, len(chars)))\n",
    "            for t, char in enumerate(sentence):\n",
    "                x_pred[0, t, char_indices[char]] = 1.\n",
    "\n",
    "            preds = model.predict(x_pred, verbose=0)[0]\n",
    "            next_index = sample(preds, diversity)\n",
    "            next_char = indices_char[next_index]\n",
    "\n",
    "            sentence = sentence[1:] + next_char\n",
    "\n",
    "            sys.stdout.write(next_char)\n",
    "            sys.stdout.flush()\n",
    "        #print()\n",
    "\n",
    "print_callback = LambdaCallback(on_epoch_end=on_epoch_end)"
   ]
  },
  {
   "cell_type": "code",
   "execution_count": 0,
   "metadata": {
    "colab": {
     "base_uri": "https://localhost:8080/",
     "height": 1000
    },
    "colab_type": "code",
    "executionInfo": {
     "elapsed": 12353941,
     "status": "ok",
     "timestamp": 1590697195821,
     "user": {
      "displayName": "Greesham Simon",
      "photoUrl": "",
      "userId": "11422027819758708097"
     },
     "user_tz": 300
    },
    "id": "C7jdej3LhwCL",
    "outputId": "de216823-30fa-4d6b-ab80-cd174e8ca080"
   },
   "outputs": [
    {
     "name": "stdout",
     "output_type": "stream",
     "text": [
      "Epoch 1/60\n",
      "62636/62636 [==============================] - 221s 4ms/step - loss: 1.8644\n",
      "\n",
      "\n",
      "----- Generating text after Epoch: 0\n",
      "\n",
      "\n",
      "----- diversity: 0.2\n",
      "----- Generating with seed: \" cranberry juice,  sprite\n",
      "absolut vodka,  peach schnapps,  coconut liqueur,  cranberry juice,  pineapple juice\n",
      "absolut citron,  sweet and sour,\"\n",
      "\n",
      "\n",
      "  milk,  light rum,  milk,  grenadine,  grenadine,  grenadine,  grenadine,  lemon juice,  grenadine,  grenadine,  crenadine,  creme de menthe,  grenadine,  cream,  cocn-ury,  creme de cocaot sugar,  grenadine,  grenadine,  crenadine,  grenadine,  milk,  creme de menthe,  grenadine,  grenadine,  light rum,  grenadine,  creme de menth cream,  creme de menthe,  sugar,  sugar,  milk,  creme de menthe,\n",
      "\n",
      "----- diversity: 0.5\n",
      "----- Generating with seed: \" cranberry juice,  sprite\n",
      "absolut vodka,  peach schnapps,  coconut liqueur,  cranberry juice,  pineapple juice\n",
      "absolut citron,  sweet and sour,\"\n",
      "\n",
      "\n",
      "  sugar,  light cream,  grenadine,  grenadine,  grenadine,  ginger ane\n",
      "sugar,  light rum,  lemon juice,  light rum,  orange juice,  triple sec,  orange juice,  oringe bitters,  banane rum,  light rum,  sugar,  milk,  triple sec,  milk,  water,  ice,  banane juice,  creme de cocant,  grenade sed,  milk,  cream,  creme de cacao,  sugar,  sugar,  ginger ass\n",
      "liqueur,  carbonated water,  grenadine,  mi\n",
      "\n",
      "----- diversity: 1.0\n",
      "----- Generating with seed: \" cranberry juice,  sprite\n",
      "absolut vodka,  peach schnapps,  coconut liqueur,  cranberry juice,  pineapple juice\n",
      "absolut citron,  sweet and sour,\"\n",
      "\n",
      "\n",
      "  vermale\n",
      "gilg amt cream,  powdered trqui,, sourberade,  gallinn cream,  bourto\n",
      "oamer\n",
      "water,  alipu a alt,  pineapple juice,  powdered sugar acare,  sye,  gallibrey,  southern s gruut vermouth,  coconby midk,  glbne syrum,  powdered numme\n",
      "creme de suechy syult brauch,  acshens,  lemon juice,  malisu w\n",
      "icaoruqui,  mive,  yabhino sugar\n",
      "ginger adela\n",
      "creme de mint\n",
      "balt rum,  crambnant cream,  cherry s\n",
      "\n",
      "----- diversity: 1.2\n",
      "----- Generating with seed: \" cranberry juice,  sprite\n",
      "absolut vodka,  peach schnapps,  coconut liqueur,  cranberry juice,  pineapple juice\n",
      "absolut citron,  sweet and sour,\"\n",
      "\n",
      "\n",
      "  prenamine,  lr\n",
      "oy eed aoson,  grpen crempwde,  pine,  pmard rum,  gingered milt,  vermouth,  milt,  sugar,  teqwetn,  we ch bur,  vodka\n",
      "alqmonmit irish  eew,  \n",
      "wgeslum,  milk,  wallt tum,  bange juice,  powderud cavont,  sugare amsodur coffond crebang melt resmalt\n",
      "gingerdawhe amilgt amkoe,  tripv  egilugug,  oringerge ale,  orange juice,  lrted lighs rum,  cherry,  pwane,  lim\n",
      "meawbiro ame juiceEpoch 2/60\n",
      "62636/62636 [==============================] - 217s 3ms/step - loss: 0.6836\n",
      "\n",
      "\n",
      "----- Generating text after Epoch: 1\n",
      "\n",
      "\n",
      "----- diversity: 0.2\n",
      "----- Generating with seed: \"r,  orange juice\n",
      "coconut rum,  amaretto,  orange juice,  grenadine\n",
      "light rum,  ginger beer,  lemon peel\n",
      "vodka,  peach schnapps,  orange juice, \"\n",
      "\n",
      "\n",
      " lemon juice\n",
      "gin,  lemon juice\n",
      "grenadine\n",
      "light rum,  lemon juice\n",
      "light rum,  lemon juice\n",
      "grenadine\n",
      "light rum,  lemon juice\n",
      "vodka,  lemon juice,  creme de cassis,  lemon juice\n",
      "grenadine\n",
      "light rum,  lemon juice\n",
      "grenadine\n",
      "light rum,  creme de cassis,  lemon juice\n",
      "gin,  lemon juice,  lemon juice\n",
      "grenadine\n",
      "lemon juice,  lemon juice\n",
      "grenadine\n",
      "lemon juice\n",
      "grenadine\n",
      "light rum,  lemon juice,  apple,  choco\n",
      "\n",
      "----- diversity: 0.5\n",
      "----- Generating with seed: \"r,  orange juice\n",
      "coconut rum,  amaretto,  orange juice,  grenadine\n",
      "light rum,  ginger beer,  lemon peel\n",
      "vodka,  peach schnapps,  orange juice, \"\n",
      "\n",
      "\n",
      " water,  soda water,  lemon juice\n",
      "vodka,  sweet and son\n",
      "vodol\n",
      "gin,  lemon juice,  lemon juice,  sweet vermouth,  creme de cassis,  orange juice\n",
      "grapefruit juice\n",
      "scotch schnapps\n",
      "brangelica,  port rum,  triple sec,  strawberry juice\n",
      "gin,  lemon juice,  orange juice,  chocolated water\n",
      "sherry brand liqueur,  chocolate,  lemon juice\n",
      "grane suga\n",
      "grenadine,  lemon juice,  sugar syrup,  sugar syrup\n",
      "gallian\n",
      "\n",
      "----- diversity: 1.0\n",
      "----- Generating with seed: \"r,  orange juice\n",
      "coconut rum,  amaretto,  orange juice,  grenadine\n",
      "light rum,  ginger beer,  lemon peel\n",
      "vodka,  peach schnapps,  orange juice, \"\n",
      "\n",
      "\n",
      " barana\n",
      "goldscala\n",
      "lemon,  floof prpour,  sfe peppa\n",
      "151 prooort,  brandy,  lemon juice\n",
      "white cranbo,  lemon\n",
      "pple,  brown malliano\n",
      "grapef,  amaretto\n",
      "bourbon\n",
      "branie\n",
      "brangelico,  vodka,  lemon\n",
      "fraspier,  jacart,  lemon juice,  water\n",
      "amaretto,  triple sec\n",
      "pevoscol,  dry vermouth\n",
      "strawberry schnapps\n",
      "granada gin\n",
      "jacv scogna\n",
      "gin,  fruit pruia,  hin\n",
      "caglagir\n",
      "malliano\n",
      "cachaca\n",
      "mallo\n",
      "malibu rum,  sweet venmou\n",
      "\n",
      "----- diversity: 1.2\n",
      "----- Generating with seed: \"r,  orange juice\n",
      "coconut rum,  amaretto,  orange juice,  grenadine\n",
      "light rum,  ginger beer,  lemon peel\n",
      "vodka,  peach schnapps,  orange juice, \"\n",
      "\n",
      "\n",
      " lemon juice\n",
      "light rum,  porer,  dark rum,  lemon juice\n",
      "light rum,  growe suga,  triple sec,  soda water\n",
      "vodka\n",
      "amaretto,  dry vermouth,  orange\n",
      "gin,  lemon,  water,  fruit dun,  hogiod spot cogin\n",
      "gin,  lemon melene\n",
      "prosagna heal\n",
      "light rum\n",
      "sconno\n",
      "maraschino cherry\n",
      "biterine,  fraoasco sauce\n",
      "amaretto,  egg,  bluv wine\n",
      "vodka,  lemon,  lemon juice,  benedice\n",
      "s\n",
      "ter\n",
      "apcer,  jacar\n",
      "gin,  pineapple juice\n",
      "scEpoch 3/60\n",
      "62636/62636 [==============================] - 214s 3ms/step - loss: 0.5678\n",
      "\n",
      "\n",
      "----- Generating text after Epoch: 2\n",
      "\n",
      "\n",
      "----- diversity: 0.2\n",
      "----- Generating with seed: \"onade,  water,  sugar\n",
      "sweet vermouth,  dry vermouth,  soda water\n",
      "gin,  vermouth\n",
      "vodka,  grenadine,  orange juice\n",
      "rum,  dry vermouth,  cognac,  \"\n",
      "\n",
      "\n",
      "cranberry juice,  grand marnier\n",
      "bailey's irish cream\n",
      "cranberry juice,  cranberry juice,  grand marnier\n",
      "coffee coloring,  cranberry juice,  grand marnier,  cranberry juice,  grand marnier\n",
      "gin,  cranberry juice,  grand marnier,  cranberry juice,  grand marnier\n",
      "bailey's irish cream\n",
      "cranberry juice,  grand marnier,  cranberry juice,  grand marnier,  cranberry juice,  bailey's irish cream\n",
      "light rum,  l\n",
      "\n",
      "----- diversity: 0.5\n",
      "----- Generating with seed: \"onade,  water,  sugar\n",
      "sweet vermouth,  dry vermouth,  soda water\n",
      "gin,  vermouth\n",
      "vodka,  grenadine,  orange juice\n",
      "rum,  dry vermouth,  cognac,  \"\n",
      "\n",
      "\n",
      "cranberry juice,  cranberry juice,  lemon peel,  gin,  lemon,  cranberry juice,  carbonated water,  cinnamon,  chambord raspberry liqueur,  151 proof rum,  whipping cream\n",
      "coffee brandy,  sugar,  cranberry juice,  sugar\n",
      "scotch,  angesiano,  comoate,  chanberry juice,  grand marnier,  yoghurt,  orange bitters,  angesica root,  chambord raspberry liqueur,  chambord raspberry liqueur,  club soda,  sug\n",
      "\n",
      "----- diversity: 1.0\n",
      "----- Generating with seed: \"onade,  water,  sugar\n",
      "sweet vermouth,  dry vermouth,  soda water\n",
      "gin,  vermouth\n",
      "vodka,  grenadine,  orange juice\n",
      "rum,  dry vermouth,  cognac,  \"\n",
      "\n",
      "\n",
      "sugar\n",
      "tanver\n",
      "orange,  baile\n",
      "raspberry liqueur,  galliano\n",
      "absolut citron,  orange,  sugar syrup\n",
      "sprite brandy,  bluebcuracao\n",
      "jdont,  milk,  whipping cream\n",
      "bailey's irish creapt,  chocolate vodka,  cachaca,  lemon,  cachaca,  water,  sugar,  frange bitters,  lemon peel\n",
      "lemon,  orange bitters,  chambord raspberries,  grand marnier,  chlaney,  cach cream,  lemon peel,  orange,  pineapple bitters,  cha\n",
      "\n",
      "----- diversity: 1.2\n",
      "----- Generating with seed: \"onade,  water,  sugar\n",
      "sweet vermouth,  dry vermouth,  soda water\n",
      "gin,  vermouth\n",
      "vodka,  grenadine,  orange juice\n",
      "rum,  dry vermouth,  cognac,  \"\n",
      "\n",
      "\n",
      "coife\n",
      "chocolate syrup\n",
      "vodka,  cranberry juice,  absolut liqueur,  lemon juice,  raspburan\n",
      "cranberry juice,  cranberry juec midori le\n",
      "anvolor,  cranky,  kahlua,  sugar\n",
      "sourbon,  triple jec,  chambord raieb marnioro\n",
      "kahlua,  yathua,  rumpesco\n",
      "sour tequila,  water,  guinne syrup,  y garcono\n",
      "darkhrolma so trot\n",
      "tiquei kolt,  amaretto vodka,  whippid  rice,  ota whipping ambodor,  scotch cranbirry juiceEpoch 4/60\n",
      "62636/62636 [==============================] - 214s 3ms/step - loss: 0.5257\n",
      "\n",
      "\n",
      "----- Generating text after Epoch: 3\n",
      "\n",
      "\n",
      "----- diversity: 0.2\n",
      "----- Generating with seed: \"neapple juice\n",
      "absolut citron,  sweet and sour,  sprite,  soda water,  lemon\n",
      "absolut citron,  lime juice,  ice,  tonic water\n",
      "absolut vodka,  cra\"\n",
      "\n",
      "\n",
      "nberry juice\n",
      "bailey's irish cream\n",
      "coffee,  cranberry juice\n",
      "gin,  grenadine\n",
      "gin,  grand marnier,  gin,  lemon juice,  grand marnier\n",
      "gin,  grand marnier\n",
      "gin,  lemonade,  gin,  sweet vermouth,  lemon,  lemon juice\n",
      "gin,  grenadine,  lemon,  lemon juice\n",
      "gin,  grenadine,  lemon,  lemonade,  gin,  grenadine\n",
      "gin,  grenadine,  lemon,  lemon juice,  grenadine\n",
      "gin,  grenadine,  lemon juice,  grand marnier\n",
      "gi\n",
      "\n",
      "----- diversity: 0.5\n",
      "----- Generating with seed: \"neapple juice\n",
      "absolut citron,  sweet and sour,  sprite,  soda water,  lemon\n",
      "absolut citron,  lime juice,  ice,  tonic water\n",
      "absolut vodka,  cra\"\n",
      "\n",
      "\n",
      "nberry juice,  orange juice\n",
      "gin,  carbonated water,  cinnamon\n",
      "kahlui rum,  beer\n",
      "vodka,  rum,  cinnamon\n",
      "gin,  sweet vermouth,  gin,  cherry,  lemon,  sugar\n",
      "sweet vermouth,  pineapple juice\n",
      "gin,  lemon\n",
      "light rum,  sugar,  lemon juice,  southern comfort,  peach schnapps\n",
      "gin,  grenadine,  grenadine\n",
      "vodka,  orange juice,  gin,  sweet vermouth,  gin,  lemon\n",
      "vodka,  sambuca\n",
      "amaretto,  sugar,  apple juice\n",
      "\n",
      "----- diversity: 1.0\n",
      "----- Generating with seed: \"neapple juice\n",
      "absolut citron,  sweet and sour,  sprite,  soda water,  lemon\n",
      "absolut citron,  lime juice,  ice,  tonic water\n",
      "absolut vodka,  cra\"\n",
      "\n",
      "\n",
      "nbyrry juice,  angisser,  water\n",
      "peach schnapps,  coffee\n",
      "vodka,  rum,  coca-cola\n",
      "kahlua,  grand marnier,  tabasco sauce,  camhuramot\n",
      "kahlua,  cointroaufe,  jlur syrup,  sugar,  cointreau,  lemon\n",
      "bailey's irish cream,  sout liqueur,  rum\n",
      "srum eed\n",
      "amaretto,  orange juice\n",
      "gin,  sweet vermouth,  pineapple juice,  caramborieg,  lime\n",
      "rum\n",
      "sweet vermouth,  gin,  ganaialino\n",
      "lager,  sambuca\n",
      "root,  bainey's i\n",
      "\n",
      "----- diversity: 1.2\n",
      "----- Generating with seed: \"neapple juice\n",
      "absolut citron,  sweet and sour,  sprite,  soda water,  lemon\n",
      "absolut citron,  lime juice,  ice,  tonic water\n",
      "absolut vodka,  cra\"\n",
      "\n",
      "\n",
      "nberry seed,  sloe gin\n",
      "tutmesa,  anisette,   cream,  cinnamon,  light rum\n",
      "dayglov scouch\n",
      "cherry,  creme de cassis,  ice\n",
      "amaretto,  galliano,  bourbon\n",
      "kahlua,  southermesjuice,  lime\n",
      "gin,  ice,  hopi coloring,  light cream\n",
      "scotch,  angostura bitter\n",
      "amaretto,  smoun juice,  ginger ale\n",
      "bailey's irish cream,  bailey's irish srue,  lemonade,  coiftursspirictal\n",
      "lime juice,  peach saita,  allspice,  vodkEpoch 5/60\n",
      "62636/62636 [==============================] - 212s 3ms/step - loss: 0.5001\n",
      "\n",
      "\n",
      "----- Generating text after Epoch: 4\n",
      "\n",
      "\n",
      "----- diversity: 0.2\n",
      "----- Generating with seed: \" strawberry liqueur,  orange juice\n",
      "coconut rum,  amaretto,  orange juice,  grenadine\n",
      "light rum,  ginger beer,  lemon peel\n",
      "vodka,  peach schnapp\"\n",
      "\n",
      "\n",
      "s,  chambord raspberry liqueur\n",
      "gin,  lemon juice,  lemon juice,  lemon juice,  lemon,  carbona\n",
      "vodka,  sout mix\n",
      "light rum,  sugar,  lime juice,  pineapple juice,  lemon juice,  lemon juice,  powdered sugar,  lemon juice,  lemon juice,  powdered sugar,  carbona,  orange,  coffee,  sugar,  sugar,  lime juice,  grapes,  chambord raspberry liqueur\n",
      "gin,  lemon juice,  pineapple juice,  lemon,  lemon ju\n",
      "\n",
      "----- diversity: 0.5\n",
      "----- Generating with seed: \" strawberry liqueur,  orange juice\n",
      "coconut rum,  amaretto,  orange juice,  grenadine\n",
      "light rum,  ginger beer,  lemon peel\n",
      "vodka,  peach schnapp\"\n",
      "\n",
      "\n",
      "s,  bailey's irish cream\n",
      "scotch,  hot chocolate,  lime juice,  midori melon liqueur,  sugar,  chocolate ice-cream\n",
      "dark rum,  lime juice,  grenadine\n",
      "gin,  dry vermouth,  soda water\n",
      "gin,  angesirum\n",
      "blended whiskey,  lemon juice,  maraschino liqueur,  soda water\n",
      "powder,  lemon\n",
      "lime,  sugar,  carbona\n",
      "vanilla extract,  chambord raspberry liqueur,  sugar\n",
      "vodka,  sout egie syrup,  lime,  coffee,  lemon j\n",
      "\n",
      "----- diversity: 1.0\n",
      "----- Generating with seed: \" strawberry liqueur,  orange juice\n",
      "coconut rum,  amaretto,  orange juice,  grenadine\n",
      "light rum,  ginger beer,  lemon peel\n",
      "vodka,  peach schnapp\"\n",
      "\n",
      "\n",
      "s,  champly syrup\n",
      "light rum,  powder,  pinnapple juice,  orange juice,  rast erish pisco\n",
      "coca-cola\n",
      "kahlua,  gin,  fit gin,  powdered sugar,  orange\n",
      "coffee,  chambord raspberry liqueur,  salt,  schweppesser\n",
      "chinfroo\n",
      "fee liqueur,  lager,  bitters,  gin\n",
      "ange\n",
      "pepper,  lamen,  pinkam,  carbona,  light rum,  salt,  sugar\n",
      "absolut citron,  carbona,  grenadine,  lemon juice\n",
      "vodka,  schtrr sh,  milk\n",
      "chocola\n",
      "\n",
      "----- diversity: 1.2\n",
      "----- Generating with seed: \" strawberry liqueur,  orange juice\n",
      "coconut rum,  amaretto,  orange juice,  grenadine\n",
      "light rum,  ginger beer,  lemon peel\n",
      "vodka,  peach schnapp\"\n",
      "\n",
      "\n",
      "s,  nutmeg\n",
      "egie milk,  schweppes,  wahlua,  maraschino cherry,  orange\n",
      "guinness stout,  guinness ctamt,  salt\n",
      "vodka,  brandy,  orange juice,  ico,  soda water\n",
      "kaolua,  orange,  milk\n",
      "amaretto,  jack daniber,  ginger ale,  sweet vermouth,  amaretto,  whisberries vodka,  amaretto\n",
      "dark curacao,  lager,  vodka,  glacf coffae amarno\n",
      "heavy vodka,  orange juice\n",
      "whiskey,  cranberry juice,  cumar,  salt,  oEpoch 6/60\n",
      "62636/62636 [==============================] - 214s 3ms/step - loss: 0.4782\n",
      "\n",
      "\n",
      "----- Generating text after Epoch: 5\n",
      "\n",
      "\n",
      "----- diversity: 0.2\n",
      "----- Generating with seed: \"absolut kurant,  grand marnier,  chambord raspberry liqueur,  midori melon liqueur,  malibu rum,  amaretto,  cranberry juice,  pineapple juice\n",
      "\"\n",
      "\n",
      "\n",
      "blended whiskey,  cherry heeries,  carbonated water,  light rum,  cherry hrenadine\n",
      "sugar,  light rum,  light rum,  cherry hrandy,  sugar\n",
      "sherry,  lemon juice,  peach bitters,  ginger ale\n",
      "sugar,  light rum,  light cream\n",
      "scotch,  light rum,  sugar,  coffee\n",
      "light rum,  lemon juice,  sugar,  coffee\n",
      "light rum,  lemon juice,  sugar,  coffee\n",
      "coffee,  cherry hrandy,  cherry heering\n",
      "sugar,  light rum,  ora\n",
      "\n",
      "----- diversity: 0.5\n",
      "----- Generating with seed: \"absolut kurant,  grand marnier,  chambord raspberry liqueur,  midori melon liqueur,  malibu rum,  amaretto,  cranberry juice,  pineapple juice\n",
      "\"\n",
      "\n",
      "\n",
      "brandy,  gin,  powdered sugar,  lemon peel,  lemon juice\n",
      "vodka,  ice,  peach bitters,  coffee,  bourbon,  sugar,  light cream\n",
      "vodka,  orange juice,  coffee\n",
      "light rum,  sugar,  coffee,  honey,  rum\n",
      "sugar,  light creme de menthe,  cherry heerie,  cherry hitters,  ginger ale,  sugar,  sugar,  coffee,  sugar,  light rum,  orange juice\n",
      "blended whiskey,  sugar,  sugar,  pineapple,  powdered sugar,  lemo\n",
      "\n",
      "----- diversity: 1.0\n",
      "----- Generating with seed: \"absolut kurant,  grand marnier,  chambord raspberry liqueur,  midori melon liqueur,  malibu rum,  amaretto,  cranberry juice,  pineapple juice\n",
      "\"\n",
      "\n",
      "\n",
      "kahlua,  sherry,  sugar\n",
      "light rum,  light rum,  abrine\n",
      "absolut rum,  orange juice,  coconut liqueur,  cherry hreep liqueur\n",
      "red wine,  triple sec,  triple sec,  amaretto,  ginger ale\n",
      "brandy,  water,  cherry hreer cardamom\n",
      "cranberry juice,  sugar,  ice,  sugar\n",
      "sugar,  vodka,  aevodolager,  sugar,  daiquiri meloofri sood\n",
      "duterad sthapbe\n",
      "advodka,  strawberries,  orange juice,  tonic water\n",
      "irish cream,\n",
      "\n",
      "----- diversity: 1.2\n",
      "----- Generating with seed: \"absolut kurant,  grand marnier,  chambord raspberry liqueur,  midori melon liqueur,  malibu rum,  amaretto,  cranberry juice,  pineapple juice\n",
      "\"\n",
      "\n",
      "\n",
      "pisang ambo\n",
      "triple sec\n",
      "peachaad rum,  dark rumged russchin,  tequila,  bailey's irish cream,  janch,  sugar,  midori melon lich\n",
      "mastorum,  aevoring,  maraschino cherry,  sugar,  orange,  chnrries\n",
      "amgogto,  hut extract,  daui mido,  kahlua\n",
      "vodka,  honey\n",
      "kahlua,  wine\n",
      "absolut citron,  lemon vodka,  amaretto,  ice\n",
      "jägermeister,  lager\n",
      "gin,  vermouth\n",
      "vodka,  ice,  glyceca,  feacooroot chamof,  cherrieEpoch 7/60\n",
      "62636/62636 [==============================] - 215s 3ms/step - loss: 0.4640\n",
      "\n",
      "\n",
      "----- Generating text after Epoch: 6\n",
      "\n",
      "\n",
      "----- diversity: 0.2\n",
      "----- Generating with seed: \",  heavy cream,  milk,  egg white\n",
      "dark rum,  lemon juice,  grenadine\n",
      "gin,  cognac,  creme de cassis,  fresh lemon juice\n",
      "rum,  vodka,  tequila, \"\n",
      "\n",
      "\n",
      " lemon-limilh soda,  orange juice\n",
      "light rum,  pineapple juice,  ora ci sugar,  lemon juice\n",
      "rum,  cherry,  lemon juice,  orange juice\n",
      "light rum,  coffee,  ginger ale,  ice\n",
      "creme de cacao,  lime juice,  cranberry juice\n",
      "rum,  coffee,  orange juice,  cranberry juice\n",
      "light rum,  lemon juice,  orange juice,  orange juice\n",
      "light rum,  cherry,  carbonated water,  lemon juice\n",
      "light rum,  lime juice,  orange\n",
      "\n",
      "----- diversity: 0.5\n",
      "----- Generating with seed: \",  heavy cream,  milk,  egg white\n",
      "dark rum,  lemon juice,  grenadine\n",
      "gin,  cognac,  creme de cassis,  fresh lemon juice\n",
      "rum,  vodka,  tequila, \"\n",
      "\n",
      "\n",
      " lime juice\n",
      "vodka,  ice,  ginger ale\n",
      "tequila,  ice,  ouze,  soda water\n",
      "sugar,  cherry,  coffee liqueur,  lemon juice\n",
      "bailey's irish cream,  lemon juice,  creme de cacao,  lime juice\n",
      "light rum,  ginger ale,  ice\n",
      "light rum,  lemon,  lemon juice\n",
      "bailey's irish cream,  lemon-limila coloring,  coffee liqueur,  orange juice\n",
      "lime juice,  lemon juice,  grenadine,  peach schnapps,  coffee\n",
      "light rum,  cherr\n",
      "\n",
      "----- diversity: 1.0\n",
      "----- Generating with seed: \",  heavy cream,  milk,  egg white\n",
      "dark rum,  lemon juice,  grenadine\n",
      "gin,  cognac,  creme de cassis,  fresh lemon juice\n",
      "rum,  vodka,  tequila, \"\n",
      "\n",
      "\n",
      " orange juice\n",
      "light rum,  lemon,  wor,  carbonated water\n",
      "beer,  anis,  vodka\n",
      "lime peel,  milk,  lemon juice\n",
      "vanilla extract,  cream,  whipped cream,  orange juice\n",
      "dry vermouth,  heavy cream,  triple sec,  orange juice ouin,  powdered sugar,  egga,  port,  vodka,  peach schnapps\n",
      "ice,  cranberry juice,  ice,  triple sec,  cocoa pepper\n",
      "vodka,  ice,  strawberries,  water,  white creme de menthe\n",
      "cherpe\n",
      "\n",
      "----- diversity: 1.2\n",
      "----- Generating with seed: \",  heavy cream,  milk,  egg white\n",
      "dark rum,  lemon juice,  grenadine\n",
      "gin,  cognac,  creme de cassis,  fresh lemon juice\n",
      "rum,  vodka,  tequila, \"\n",
      "\n",
      "\n",
      " vodka\n",
      "absolut citron,  ohaniers,  midori melon liqueur,  ueach bitters\n",
      "dark rum,  kutmolf rum,  anischamor,  orange juice\n",
      "vodka,  grenadine\n",
      "red wine,"
     ]
    },
    {
     "name": "stderr",
     "output_type": "stream",
     "text": [
      "/usr/local/lib/python3.6/dist-packages/ipykernel_launcher.py:4: RuntimeWarning: divide by zero encountered in log\n",
      "  after removing the cwd from sys.path.\n"
     ]
    },
    {
     "name": "stdout",
     "output_type": "stream",
     "text": [
      "  maraschino cherry,  marshmallow ch seel,  orange juice,  orange,  cocoa powder,  coffee\n",
      "blended whiskey,  brandy,  gin,  jack wainneno,  cherry,  sugar,  orange juice\n",
      "gin,  cemon ginger,  ice\n",
      "gin,  sweet vermouth,  cloves\n",
      "gin,  cinnamon,  apple juiEpoch 8/60\n",
      "62636/62636 [==============================] - 214s 3ms/step - loss: 0.4493\n",
      "\n",
      "\n",
      "----- Generating text after Epoch: 7\n",
      "\n",
      "\n",
      "----- diversity: 0.2\n",
      "----- Generating with seed: \" rum,  añejo rum,  orange juice,  lemon juice,  ginger ale,  lemon peel\n",
      "amaretto,  southern comfort,  ice,  sour mix\n",
      "cranberry juice,  soda wat\"\n",
      "\n",
      "\n",
      "er,  lemon juice,  lemon peel\n",
      "gin,  lemon juice,  orange juice,  orange juice,  lemon juice\n",
      "light rum,  lime juice,  apple juice,  orange juice\n",
      "vodka,  gin,  cranberry juice\n",
      "light rum,  orange juice,  orange juice,  apple juice\n",
      "gin,  cream,  cinnamon,  sugar,  lemon juice\n",
      "light rum,  lemon juice,  orange juice,  pineapple juice\n",
      "coffee,  vodka,  cranberries,  vodka\n",
      "gin,  grand marnier,  lemon juice\n",
      "\n",
      "----- diversity: 0.5\n",
      "----- Generating with seed: \" rum,  añejo rum,  orange juice,  lemon juice,  ginger ale,  lemon peel\n",
      "amaretto,  southern comfort,  ice,  sour mix\n",
      "cranberry juice,  soda wat\"\n",
      "\n",
      "\n",
      "er,  sugar,  lemon juice\n",
      "dry vermouth,  lemon,  orange juice,  gin,  grapefruit juice\n",
      "vodka,  cointreau,  club soda,  orange juice\n",
      "coffee,  vodka,  lime juice\n",
      "coffee,  sugar,  salt,  orange juice,  orange juice,  gin\n",
      "gin,  lemon,  orange bitters,  benedictine\n",
      "gin,  grenadine,  lime juice,  orange bitters\n",
      "red wine,  grenadine,  orange juice\n",
      "vodka,  iced tea,  milk,  cinnamon,  ice\n",
      "absolut citron,  \n",
      "\n",
      "----- diversity: 1.0\n",
      "----- Generating with seed: \" rum,  añejo rum,  orange juice,  lemon juice,  ginger ale,  lemon peel\n",
      "amaretto,  southern comfort,  ice,  sour mix\n",
      "cranberry juice,  soda wat\"\n",
      "\n",
      "\n",
      "er,  galliano,  orange juice\n",
      "rum,  orange peeline,  peach schnapps,  sour mix,  light rum,  sour mix,  lime juice\n",
      "dry vermouth,  half-and-half\n",
      "vodka\n",
      "strawberries,  triple sec,  orange juice,  sugar syrup,  lime juice,  salt,  raspberrant cream\n",
      "vodka,  salt,  triple sec,  orange juice\n",
      "coffee,  euehica powder,  gin,  lemon juice\n",
      "vodka\n",
      "coffee\n",
      "vodka ouzo,  topicaur\n",
      "absolut citron,  lime juice,  vodka,\n",
      "\n",
      "----- diversity: 1.2\n",
      "----- Generating with seed: \" rum,  añejo rum,  orange juice,  lemon juice,  ginger ale,  lemon peel\n",
      "amaretto,  southern comfort,  ice,  sour mix\n",
      "cranberry juice,  soda wat\"\n",
      "\n",
      "\n",
      "er,  \n",
      "milk,  soda water,  raspberry le mermint,  creme de mure,  ice,  milk,  che\n",
      "rish buile,  nutmeg,  honey\n",
      "sugar,  gin,  ice\n",
      "absolut citron,  powderedes le min\n",
      "tearant,  beee vermouth,  maraschino cherry,  lemon juice,  angostura bitters,  orange beelmeys\n",
      "bourbon,  cherry,  nutmeg,  egg white,  strawberries,  coffee\n",
      "lemon juice,  bitterm,  campari\n",
      "spla,  corn syrup,  vodka,  agave sauce\n",
      "dry verEpoch 9/60\n",
      "62636/62636 [==============================] - 214s 3ms/step - loss: 0.4390\n",
      "\n",
      "\n",
      "----- Generating text after Epoch: 8\n",
      "\n",
      "\n",
      "----- diversity: 0.2\n",
      "----- Generating with seed: \"y vermouth,  soda water\n",
      "gin,  vermouth\n",
      "vodka,  grenadine,  orange juice\n",
      "rum,  dry vermouth,  cognac,  gin,  fresh lime juice,  sugar syrup,  wa\"\n",
      "\n",
      "\n",
      "ter\n",
      "sweet vermouth,  cherry,  cherry,  lemon,  grenadine\n",
      "amaretto,  sour mix\n",
      "amaretto,  sour mix\n",
      "amaretto,  sour mix\n",
      "amaretto,  light cream\n",
      "coconut rum,  cherry,  mint,  lemon juice\n",
      "gin,  creme de cacao,  sour mix\n",
      "amaretto,  sour mix\n",
      "amaretto,  sour mix\n",
      "amaretto,  sour mix\n",
      "cocoa powder,  sambuca\n",
      "absolut citron,  cherry,  sugar,  coca-cola,  lemon juice\n",
      "gold tequila,  grenadine,  creme de cacao\n",
      "cof\n",
      "\n",
      "----- diversity: 0.5\n",
      "----- Generating with seed: \"y vermouth,  soda water\n",
      "gin,  vermouth\n",
      "vodka,  grenadine,  orange juice\n",
      "rum,  dry vermouth,  cognac,  gin,  fresh lime juice,  sugar syrup,  wa\"\n",
      "\n",
      "\n",
      "ter\n",
      "gin,  cherry,  grenadine\n",
      "water,  grenadine,  carbonated water,  grenadine,  lemon juice\n",
      "amaretto,  sour mix\n",
      "coconut rum,  ginger ale,  orange juice\n",
      "gold tequila,  grand marnier,  amaretto\n",
      "amaretto,  sour mix\n",
      "light rum,  lemon juice,  grenadine\n",
      "southern comfort,  triple sec,  cherry,  chocolate sauce,  coca-cola,  rum\n",
      "vodka,  chambord raspberry liqueur,  grenadine\n",
      "lemon juice,  triple sec,  lem\n",
      "\n",
      "----- diversity: 1.0\n",
      "----- Generating with seed: \"y vermouth,  soda water\n",
      "gin,  vermouth\n",
      "vodka,  grenadine,  orange juice\n",
      "rum,  dry vermouth,  cognac,  gin,  fresh lime juice,  sugar syrup,  wa\"\n",
      "\n",
      "\n",
      "ter camrost,  coca-cola\n",
      "vanilla bitters,  sugar,  ice\n",
      "sambuca,  ice,  mountain dew,  lemon,  tea\n",
      "coronah cocooud  runge,  malibu rum\n",
      "brandy,  lemon,  water,  bourbon,  soda water\n",
      "brandy,  lemon juice,  ice\n",
      "cocoout rum,  pineapple juice,  midori melon liqueur,  coca-cola,  orange juice\n",
      "coconut rum,  tequila,  goldschlager\n",
      "advocorant,  sour mix,  lime juice\n",
      "coconut rum,  sugar syrup,  lemon aes,  ma\n",
      "\n",
      "----- diversity: 1.2\n",
      "----- Generating with seed: \"y vermouth,  soda water\n",
      "gin,  vermouth\n",
      "vodka,  grenadine,  orange juice\n",
      "rum,  dry vermouth,  cognac,  gin,  fresh lime juice,  sugar syrup,  wa\"\n",
      "\n",
      "\n",
      "ter\n",
      "lemonade,  orange juice,  coca-cola\n",
      "jack daniels,  peashini mil,  applejschnanp\n",
      "amaretto,  cognac,  ice\n",
      "powder,  lemon\n",
      "grenadine,  lemon,  creme de casco\n",
      "rum,  amaretto,  sugar,  grenadine\n",
      "bailey's irish cream,  tripliter\n",
      "bourbon,  triple sec\n",
      "fuicern water,  lemon juice,  saltoouoa\n",
      "absange,  coconut milk,  coconut liqueur\n",
      "avodka,  orange,  molkae amauco,  rum\n",
      "sambuca,  ralp,  maraschino cherryEpoch 10/60\n",
      "62636/62636 [==============================] - 219s 3ms/step - loss: 0.4274\n",
      "\n",
      "\n",
      "----- Generating text after Epoch: 9\n",
      "\n",
      "\n",
      "----- diversity: 0.2\n",
      "----- Generating with seed: \"  cherry\n",
      "gin,  sweet vermouth,  orange juice,  angostura bitters\n",
      "dark rum,  peach nectar,  orange juice\n",
      "vodka,  sugar,  anise,  licorice root, \"\n",
      "\n",
      "\n",
      " lime juice\n",
      "coffee,  cream,  coffee,  cream,  coffee,  cinnamon,  lime juice,  grand marnier\n",
      "kahlua,  bailey's irish cream,  coffee,  cinnamon,  lime juice,  sugar,  lime juice\n",
      "coffee,  cream,  cinnamon,  lime juice,  grand marnier,  lime juice\n",
      "coffee,  cream,  coffee,  cream,  coffee\n",
      "coffee,  cornato,  sugar,  lime juice,  cinnamon,  lime juice\n",
      "vodka,  cream,  cinnamon,  lime juice,  sugar,  lime\n",
      "\n",
      "----- diversity: 0.5\n",
      "----- Generating with seed: \"  cherry\n",
      "gin,  sweet vermouth,  orange juice,  angostura bitters\n",
      "dark rum,  peach nectar,  orange juice\n",
      "vodka,  sugar,  anise,  licorice root, \"\n",
      "\n",
      "\n",
      " lime juice,  lime juice,  galliano\n",
      "lagh rica,  water,  lime juice,  grenadine,  lime juice,  sugar\n",
      "gin,  apple,  brandy,  lemon beer\n",
      "vodka,  lime,  ice\n",
      "gin,  lemon,  lemon juice,  orange bitters,  orange,  lemon liqueur\n",
      "vodka,  orange,  lemon juice,  creme de cassis,  champagne,  lemon juice,  sugar\n",
      "gin,  lemon juice,  orange bitters,  sweet vermouth,  lemon,  lemon juice\n",
      "gin,  orange bitters,  l\n",
      "\n",
      "----- diversity: 1.0\n",
      "----- Generating with seed: \"  cherry\n",
      "gin,  sweet vermouth,  orange juice,  angostura bitters\n",
      "dark rum,  peach nectar,  orange juice\n",
      "vodka,  sugar,  anise,  licorice root, \"\n",
      "\n",
      "\n",
      " vodka\n",
      "connon,  scotcw,  dry vermouth\n",
      "absolut vodka,  raspberry liqueur,  milk,  ice\n",
      "brandy,  lime,  lemon,  brandy,  orange\n",
      "apricot brandy,  gin,  soda water,  lime juice\n",
      "whippinger,  gin,  sract,  light cream,  lemon juice,  gin,  c\n",
      "cognac,  sugar,  bitters,  egg white\n",
      "rum,  mint,  lime juice,  orange juice,  peach brandy,  cherry brandy,  bitters,  lemon juice,  sweet vermouth\n",
      "grenadine,  tequi\n",
      "\n",
      "----- diversity: 1.2\n",
      "----- Generating with seed: \"  cherry\n",
      "gin,  sweet vermouth,  orange juice,  angostura bitters\n",
      "dark rum,  peach nectar,  orange juice\n",
      "vodka,  sugar,  anise,  licorice root, \"\n",
      "\n",
      "\n",
      " tequila,  vodka,  cinnamon,  orange juice\n",
      "white rum,  ice,  passion fruit syrup,  frisp,  candy\n",
      "rum,  pineapple juice,  grand marnier,  applejack,  vodka\n",
      "absolut vodka,  tabasco sauce,  root beer,  wild tua\n",
      "absolut vodka,  vanilla ice-cream,  nutmogne,  sugar,  ice\n",
      "vodka,  brandy,  lemon juice,  dani,  plts iceg,  cinnamon,  lime,  triple ser,  powderede water\n",
      "blangel ,  water,  brandy,  powderedEpoch 11/60\n",
      "62636/62636 [==============================] - 221s 4ms/step - loss: 0.4198\n",
      "\n",
      "\n",
      "----- Generating text after Epoch: 10\n",
      "\n",
      "\n",
      "----- diversity: 0.2\n",
      "----- Generating with seed: \" amaretto,  cranberry juice,  pineapple juice\n",
      "lager,  tequila\n",
      "malibu rum,  light rum,  151 proof rum,  dark creme de cacao,  cointreau,  milk, \"\n",
      "\n",
      "\n",
      " cognac,  vodka,  cranberry juice\n",
      "gin,  lemonade,  vodka,  cranberry juice\n",
      "light rum,  pineapple,  lemonade,  lime,  sugar,  lemon juice,  coca-cola,  lemonade,  lemonade,  lemonade,  lemonade,  coca-cola,  lemonade,  lemonade,  coca-cola,  sweet vermouth,  lemon peel\n",
      "vodka,  creme de banane,  peach schnapps,  coca-cola,  lime\n",
      "light rum,  lemonade,  vodka,  coca-cola,  lime juice\n",
      "gin,  lemon juice\n",
      "\n",
      "----- diversity: 0.5\n",
      "----- Generating with seed: \" amaretto,  cranberry juice,  pineapple juice\n",
      "lager,  tequila\n",
      "malibu rum,  light rum,  151 proof rum,  dark creme de cacao,  cointreau,  milk, \"\n",
      "\n",
      "\n",
      " cointreau\n",
      "gin,  benedictine,  grenadine,  powdered sugar\n",
      "tequila,  carbonated water,  lemon peel,  cognac,  angostura bitters\n",
      "gin,  carbonated water,  triple sec,  lemonade,  sugar,  cognac,  lemon juice,  coca-cola,  lemonade,  coca-cola,  lemon juice\n",
      "light rum,  pineapple,  lemonade,  lime juice,  triple sec\n",
      "coffee,  creme de banane,  orange juice,  cranberry juice\n",
      "brandy,  l"
     ]
    }
   ],
   "source": [
    "model.fit(x, y,\n",
    "          batch_size=128,\n",
    "          epochs=60,\n",
    "          callbacks=[print_callback])\n",
    "model.save('lstm_2_128_alc_first')"
   ]
  },
  {
   "cell_type": "code",
   "execution_count": 0,
   "metadata": {
    "colab": {
     "base_uri": "https://localhost:8080/",
     "height": 295
    },
    "colab_type": "code",
    "executionInfo": {
     "elapsed": 560,
     "status": "ok",
     "timestamp": 1590698779956,
     "user": {
      "displayName": "Greesham Simon",
      "photoUrl": "",
      "userId": "11422027819758708097"
     },
     "user_tz": 300
    },
    "id": "WGVp-v4O1B-F",
    "outputId": "13bb357a-01c6-4179-dba2-3247d7ec354a"
   },
   "outputs": [
    {
     "data": {
      "image/png": "[encoded data removed]",
      "text/plain": [
       "<Figure size 432x288 with 1 Axes>"
      ]
     },
     "metadata": {
      "needs_background": "light",
      "tags": []
     },
     "output_type": "display_data"
    }
   ],
   "source": [
    "plt.plot(model.history.history['loss'])\n",
    "plt.title('model loss')\n",
    "plt.ylabel('loss')\n",
    "plt.xlabel('epoch')\n",
    "plt.show()"
   ]
  },
  {
   "cell_type": "code",
   "execution_count": 0,
   "metadata": {
    "colab": {},
    "colab_type": "code",
    "id": "jY7_5xrR80I-"
   },
   "outputs": [],
   "source": [
    "losses = pd.DataFrame(model.history.history['loss'])\n",
    "losses.to_csv('lstm_2_128_alc_first_losses.csv')"
   ]
  },
  {
   "cell_type": "code",
   "execution_count": 0,
   "metadata": {
    "colab": {},
    "colab_type": "code",
    "id": "MdLvr_Tn9Cz3"
   },
   "outputs": [],
   "source": [
    "def sample(preds, temperature=1.0):\n",
    "    # helper function to sample an index from a probability array\n",
    "    preds = np.asarray(preds).astype('float64')\n",
    "    preds = np.log(preds) / temperature\n",
    "    exp_preds = np.exp(preds)\n",
    "    preds = exp_preds / np.sum(exp_preds)\n",
    "    probas = np.random.multinomial(1, preds, 1)\n",
    "    return np.argmax(probas)\n",
    "def makePrediction(sentence, diversity, output_length):\n",
    "  \"\"\"\n",
    "  function makes a prediction from model using a seed sentence and specifying an \n",
    "  output length\n",
    "  \"\"\"\n",
    "  output = ''\n",
    "  for i in range(output_length):\n",
    "      x_pred = np.zeros((1, max_len, len(chars)))\n",
    "      #convert seed sentence to appropriate enumerated matrix\n",
    "      for t, char in enumerate(sentence):\n",
    "          x_pred[0, t, char_indices[char]] = 1.\n",
    "\n",
    "      preds = model.predict(x_pred, verbose=0)[0]\n",
    "      next_index = sample(preds, diversity)\n",
    "      next_char = indices_char[next_index]\n",
    "\n",
    "      sentence = sentence[1:] + next_char\n",
    "      output = output + next_char\n",
    "\n",
    "  return output"
   ]
  },
  {
   "cell_type": "code",
   "execution_count": 0,
   "metadata": {
    "colab": {
     "base_uri": "https://localhost:8080/",
     "height": 51
    },
    "colab_type": "code",
    "executionInfo": {
     "elapsed": 227884,
     "status": "ok",
     "timestamp": 1590700069043,
     "user": {
      "displayName": "Greesham Simon",
      "photoUrl": "",
      "userId": "11422027819758708097"
     },
     "user_tz": 300
    },
    "id": "-g3eBTlhGQ01",
    "outputId": "6e19e25e-adee-4ec4-a27d-abef7d298915"
   },
   "outputs": [
    {
     "name": "stderr",
     "output_type": "stream",
     "text": [
      "/usr/local/lib/python3.6/dist-packages/ipykernel_launcher.py:4: RuntimeWarning: divide by zero encountered in log\n",
      "  after removing the cwd from sys.path.\n"
     ]
    }
   ],
   "source": [
    "sentence = ''.join(text)[23: 23 + max_len]\n",
    "output_sample = makePrediction(sentence, 1, 10000)"
   ]
  },
  {
   "cell_type": "code",
   "execution_count": 0,
   "metadata": {
    "colab": {},
    "colab_type": "code",
    "id": "p1fM8TLIGVY3"
   },
   "outputs": [],
   "source": [
    "text_file = open(\"lstm_2_128_alc_first_output.txt\", \"w\")\n",
    "n = text_file.write(output_sample)\n",
    "text_file.close()"
   ]
  },
  {
   "cell_type": "code",
   "execution_count": 0,
   "metadata": {
    "colab": {},
    "colab_type": "code",
    "id": "IT97VAj49E_S"
   },
   "outputs": [],
   "source": []
  },
  {
   "cell_type": "code",
   "execution_count": 0,
   "metadata": {
    "colab": {},
    "colab_type": "code",
    "id": "zHs5Js3v8Yz6"
   },
   "outputs": [],
   "source": []
  }
 ],
 "metadata": {
  "accelerator": "GPU",
  "colab": {
   "collapsed_sections": [],
   "name": "DLProject_gs_lstm_2_128.ipynb",
   "provenance": [
    {
     "file_id": "1mKgLwgSFyzlQ46XwiNkcmblTt4zvE53H",
     "timestamp": 1590728093339
    },
    {
     "file_id": "16y5Zp12HzEX04kkN5pbLkZ2wTfelrE65",
     "timestamp": 1590726940258
    }
   ]
  },
  "kernelspec": {
   "display_name": "Python 3",
   "language": "python",
   "name": "python3"
  },
  "language_info": {
   "codemirror_mode": {
    "name": "ipython",
    "version": 3
   },
   "file_extension": ".py",
   "mimetype": "text/x-python",
   "name": "python",
   "nbconvert_exporter": "python",
   "pygments_lexer": "ipython3",
   "version": "3.7.1"
  }
 },
 "nbformat": 4,
 "nbformat_minor": 1
}
